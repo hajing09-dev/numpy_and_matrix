{
  "nbformat": 4,
  "nbformat_minor": 0,
  "metadata": {
    "colab": {
      "provenance": [],
      "authorship_tag": "ABX9TyMn7yYWcQUgc1pSohaCNDYY",
      "include_colab_link": true
    },
    "kernelspec": {
      "name": "python3",
      "display_name": "Python 3"
    },
    "language_info": {
      "name": "python"
    }
  },
  "cells": [
    {
      "cell_type": "markdown",
      "metadata": {
        "id": "view-in-github",
        "colab_type": "text"
      },
      "source": [
        "<a href=\"https://colab.research.google.com/github/hajing09-dev/numpy_and_matrix/blob/main/numpy_and_matrix.ipynb\" target=\"_parent\"><img src=\"https://colab.research.google.com/assets/colab-badge.svg\" alt=\"Open In Colab\"/></a>"
      ]
    },
    {
      "cell_type": "markdown",
      "source": [
        "온라인 코드 실행기에 오신것을 환영합니다!"
      ],
      "metadata": {
        "id": "tyY14vgYiT-R"
      }
    },
    {
      "cell_type": "markdown",
      "source": [
        "⬇ 아래의 실행 버튼을 눌러 코드를 실행할수 있습니다."
      ],
      "metadata": {
        "id": "NHeq1pzhiipT"
      }
    },
    {
      "cell_type": "code",
      "execution_count": null,
      "metadata": {
        "id": "waRMJ3m1h9gL"
      },
      "outputs": [],
      "source": [
        "import numpy as np #\n",
        "\n",
        "array1 = np.array([[1,2,3,4],[5,6,7,8]])\n",
        "\n",
        "print(array1)"
      ]
    }
  ]
}