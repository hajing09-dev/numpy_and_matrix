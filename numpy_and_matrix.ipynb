{
  "cells": [
    {
      "cell_type": "markdown",
      "metadata": {
        "colab_type": "text",
        "id": "view-in-github"
      },
      "source": [
        "<a href=\"https://colab.research.google.com/github/hajing09-dev/numpy_and_matrix/blob/main/numpy_and_matrix.ipynb\" target=\"_parent\"><img src=\"https://colab.research.google.com/assets/colab-badge.svg\" alt=\"Open In Colab\"/></a>"
      ]
    },
    {
      "cell_type": "markdown",
      "metadata": {
        "id": "tyY14vgYiT-R"
      },
      "source": [
        "온라인 코드 실행기에 오신것을 환영합니다!"
      ]
    },
    {
      "cell_type": "markdown",
      "metadata": {
        "id": "NHeq1pzhiipT"
      },
      "source": [
        "⬇ 아래의 실행 버튼을 눌러 코드를 실행할수 있습니다."
      ]
    },
    {
      "cell_type": "code",
      "execution_count": null,
      "metadata": {
        "id": "waRMJ3m1h9gL"
      },
      "outputs": [],
      "source": [
        "import numpy as np #Numpy를 사용하기 위해 불러오는 과정\n",
        "\n",
        "array1 = np.array([[1,2,3,4],[5,6,7,8]])\n",
        "\n",
        "print(array1)"
      ]
    }
  ],
  "metadata": {
    "colab": {
      "authorship_tag": "ABX9TyMn7yYWcQUgc1pSohaCNDYY",
      "include_colab_link": true,
      "provenance": []
    },
    "kernelspec": {
      "display_name": "Python 3",
      "name": "python3"
    },
    "language_info": {
      "name": "python"
    }
  },
  "nbformat": 4,
  "nbformat_minor": 0
}
